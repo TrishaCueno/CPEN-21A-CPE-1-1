{
  "nbformat": 4,
  "nbformat_minor": 0,
  "metadata": {
    "colab": {
      "name": "Lab1.ipynb",
      "provenance": [],
      "authorship_tag": "ABX9TyMlb+bac3/4uMashPCYHi5M",
      "include_colab_link": true
    },
    "kernelspec": {
      "name": "python3",
      "display_name": "Python 3"
    },
    "language_info": {
      "name": "python"
    }
  },
  "cells": [
    {
      "cell_type": "markdown",
      "metadata": {
        "id": "view-in-github",
        "colab_type": "text"
      },
      "source": [
        "<a href=\"https://colab.research.google.com/github/TrishaCueno/CPEN-21A-CPE-1-1/blob/main/Lab1.ipynb\" target=\"_parent\"><img src=\"https://colab.research.google.com/assets/colab-badge.svg\" alt=\"Open In Colab\"/></a>"
      ]
    },
    {
      "cell_type": "code",
      "metadata": {
        "colab": {
          "base_uri": "https://localhost:8080/"
        },
        "id": "DJDmmlLcgjsX",
        "outputId": "6cc5ccd8-31e4-4988-fad4-5b99433036a5"
      },
      "source": [
        "# This program prints Welcome to Python Programming\n",
        "print('Welcome to Python Programming')"
      ],
      "execution_count": 1,
      "outputs": [
        {
          "output_type": "stream",
          "name": "stdout",
          "text": [
            "Welcome to Python Programming\n"
          ]
        }
      ]
    },
    {
      "cell_type": "code",
      "metadata": {
        "colab": {
          "base_uri": "https://localhost:8080/"
        },
        "id": "cEqxHchCiH-8",
        "outputId": "7258f01a-18d3-4243-ab45-3e5482e83322"
      },
      "source": [
        "# This program prints Trisha Faye C. Cueno\n",
        "name = 'Trisha Faye C. Cueno'\n",
        "print(name)"
      ],
      "execution_count": 6,
      "outputs": [
        {
          "output_type": "stream",
          "name": "stdout",
          "text": [
            "Trisha Faye C. Cueno\n"
          ]
        }
      ]
    },
    {
      "cell_type": "code",
      "metadata": {
        "colab": {
          "base_uri": "https://localhost:8080/"
        },
        "id": "y45ldDy4iUSW",
        "outputId": "c41d8cdd-2722-42d8-b25c-de32a5010c9a"
      },
      "source": [
        "# This program prints Kayquit 2, Indang, Cavite\n",
        "address = 'Kayquit 2, Indang, Cavite'\n",
        "print(address)"
      ],
      "execution_count": 7,
      "outputs": [
        {
          "output_type": "stream",
          "name": "stdout",
          "text": [
            "Kayquit 2, Indang, Cavite\n"
          ]
        }
      ]
    },
    {
      "cell_type": "code",
      "metadata": {
        "colab": {
          "base_uri": "https://localhost:8080/"
        },
        "id": "tCo3m6DQimpW",
        "outputId": "590ed240-4873-45b6-efb2-9c09368b0a91"
      },
      "source": [
        "# This program prints 18 years old\n",
        "age = '18 years old'\n",
        "print(age)"
      ],
      "execution_count": 8,
      "outputs": [
        {
          "output_type": "stream",
          "name": "stdout",
          "text": [
            "18 years old\n"
          ]
        }
      ]
    }
  ]
}