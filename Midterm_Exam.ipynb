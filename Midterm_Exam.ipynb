{
  "nbformat": 4,
  "nbformat_minor": 0,
  "metadata": {
    "colab": {
      "name": " Midterm Exam.ipynb",
      "provenance": [],
      "authorship_tag": "ABX9TyMu0mOMK6aiomv8z9hDJgX1",
      "include_colab_link": true
    },
    "kernelspec": {
      "name": "python3",
      "display_name": "Python 3"
    },
    "language_info": {
      "name": "python"
    }
  },
  "cells": [
    {
      "cell_type": "markdown",
      "metadata": {
        "id": "view-in-github",
        "colab_type": "text"
      },
      "source": [
        "<a href=\"https://colab.research.google.com/github/TrishaCueno/CPEN-21A-CPE-1-1/blob/main/Midterm_Exam.ipynb\" target=\"_parent\"><img src=\"https://colab.research.google.com/assets/colab-badge.svg\" alt=\"Open In Colab\"/></a>"
      ]
    },
    {
      "cell_type": "markdown",
      "metadata": {
        "id": "uSU2YHmoiJnb"
      },
      "source": [
        "#Midterm Exam"
      ]
    },
    {
      "cell_type": "markdown",
      "metadata": {
        "id": "nl1ZkHi3iDH6"
      },
      "source": [
        "###PROBLEM STATEMENT 1"
      ]
    },
    {
      "cell_type": "code",
      "metadata": {
        "colab": {
          "base_uri": "https://localhost:8080/"
        },
        "id": "aIeVwfZSki27",
        "outputId": "06841afb-21bc-423a-a052-cbbd15f79ad0"
      },
      "source": [
        "def Personal_Details():\n",
        "  Full_name = \"Trisha Faye Cabug Cueno\"\n",
        "  Student_Number = \"202101759\"\n",
        "  Age = int(18)\n",
        "  Birthday = \"April 02, 2003\"\n",
        "  Address = \"Narra Street, Kayquit 2, Indang, Cavite\"\n",
        "  Course = \"Bachelor of Science in Computer Engineering\"\n",
        "  Last_Sem_GWA = int(93)\n",
        "  print(\"Full_name: {}\\nStudent_Number: {}\\nAge: {}\\nBirthday: {}\\nAddress: {}\\nCourse: {}\\nLast_Sem_GWA: {}\".format(Full_name, Student_Number, Age, Birthday, Address, Course, Last_Sem_GWA))\n",
        "\n",
        "Personal_Details()"
      ],
      "execution_count": 5,
      "outputs": [
        {
          "output_type": "stream",
          "name": "stdout",
          "text": [
            "Full_name: Trisha Faye Cabug Cueno\n",
            "Student_Number: 202101759\n",
            "Age: 18\n",
            "Birthday: April 02, 2003\n",
            "Address: Narra Street, Kayquit 2, Indang, Cavite\n",
            "Course: Bachelor of Science in Computer Engineering\n",
            "Last_Sem_GWA: 93\n"
          ]
        }
      ]
    },
    {
      "cell_type": "markdown",
      "metadata": {
        "id": "ceP6tt3PnAHy"
      },
      "source": [
        "###PROBLEM STATEMENT 2"
      ]
    },
    {
      "cell_type": "code",
      "metadata": {
        "colab": {
          "base_uri": "https://localhost:8080/"
        },
        "id": "9fWfQv4my9Wh",
        "outputId": "15a8690e-8b56-481c-cc2f-78402ff518d4"
      },
      "source": [
        "n = 4\n",
        "answ = \"Y\"\n",
        "\n",
        "print(2<n and n<6)\n",
        "print(2<n or n==6)\n",
        "print(not(2<n or n==6))\n",
        "print(not(n<6))\n",
        "print((answ==\"Y\") or (answ==\"y\"))\n",
        "print((answ==\"y\") and (answ==\"y\"))\n",
        "print(not answ==\"y\")\n",
        "print((2<n) and (n==7) or (answ==\"No\"))\n",
        "print((n==2) and (n==7) or (answ==\"Y\"))\n",
        "print(((n==2) and (n==7)) or (answ==\"Y\"))"
      ],
      "execution_count": 48,
      "outputs": [
        {
          "output_type": "stream",
          "name": "stdout",
          "text": [
            "True\n",
            "True\n",
            "False\n",
            "False\n",
            "True\n",
            "False\n",
            "True\n",
            "False\n",
            "True\n",
            "True\n"
          ]
        }
      ]
    },
    {
      "cell_type": "markdown",
      "metadata": {
        "id": "UoaMA5VAoN_x"
      },
      "source": [
        "###PROBLEM STATEMENT 3"
      ]
    },
    {
      "cell_type": "code",
      "metadata": {
        "colab": {
          "base_uri": "https://localhost:8080/"
        },
        "id": "zm7cXOWLoRaG",
        "outputId": "5f386be2-4b0f-4d79-c681-8f561ee0a0e4"
      },
      "source": [
        "w = 7\n",
        "x = 2\n",
        "y = -3\n",
        "z = -10\n",
        "\n",
        "print(x/y)\n",
        "print(w/y/x)\n",
        "print(z/y%x)\n",
        "print(x%-y*w)\n",
        "print(x%y)\n",
        "print(z%w-y/x*5+5)\n",
        "print(9-x%(2+y))\n",
        "print(z//w)\n",
        "print((2+y)**2)\n",
        "print(w/x*2)"
      ],
      "execution_count": 32,
      "outputs": [
        {
          "output_type": "stream",
          "name": "stdout",
          "text": [
            "-0.6666666666666666\n",
            "-1.1666666666666667\n",
            "1.3333333333333335\n",
            "14\n",
            "-1\n",
            "16.5\n",
            "9\n",
            "-2\n",
            "1\n",
            "7.0\n"
          ]
        }
      ]
    }
  ]
}