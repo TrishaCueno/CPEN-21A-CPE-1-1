{
  "nbformat": 4,
  "nbformat_minor": 0,
  "metadata": {
    "colab": {
      "name": " Midterm Exam.ipynb",
      "provenance": [],
      "authorship_tag": "ABX9TyNw39nnMvffTtqLTDHj2K+E",
      "include_colab_link": true
    },
    "kernelspec": {
      "name": "python3",
      "display_name": "Python 3"
    },
    "language_info": {
      "name": "python"
    }
  },
  "cells": [
    {
      "cell_type": "markdown",
      "metadata": {
        "id": "view-in-github",
        "colab_type": "text"
      },
      "source": [
        "<a href=\"https://colab.research.google.com/github/TrishaCueno/CPEN-21A-CPE-1-1/blob/main/Midterm_Exam.ipynb\" target=\"_parent\"><img src=\"https://colab.research.google.com/assets/colab-badge.svg\" alt=\"Open In Colab\"/></a>"
      ]
    },
    {
      "cell_type": "markdown",
      "metadata": {
        "id": "uSU2YHmoiJnb"
      },
      "source": [
        "#Midterm Exam"
      ]
    },
    {
      "cell_type": "markdown",
      "metadata": {
        "id": "nl1ZkHi3iDH6"
      },
      "source": [
        "###PROBLEM STATEMENT 1"
      ]
    },
    {
      "cell_type": "code",
      "metadata": {
        "colab": {
          "base_uri": "https://localhost:8080/"
        },
        "id": "aIeVwfZSki27",
        "outputId": "06841afb-21bc-423a-a052-cbbd15f79ad0"
      },
      "source": [
        "def Personal_Details():\n",
        "  Full_name = \"Trisha Faye Cabug Cueno\"\n",
        "  Student_Number = \"202101759\"\n",
        "  Age = int(18)\n",
        "  Birthday = \"April 02, 2003\"\n",
        "  Address = \"Narra Street, Kayquit 2, Indang, Cavite\"\n",
        "  Course = \"Bachelor of Science in Computer Engineering\"\n",
        "  Last_Sem_GWA = int(93)\n",
        "  print(\"Full_name: {}\\nStudent_Number: {}\\nAge: {}\\nBirthday: {}\\nAddress: {}\\nCourse: {}\\nLast_Sem_GWA: {}\".format(Full_name, Student_Number, Age, Birthday, Address, Course, Last_Sem_GWA))\n",
        "\n",
        "Personal_Details()"
      ],
      "execution_count": 5,
      "outputs": [
        {
          "output_type": "stream",
          "name": "stdout",
          "text": [
            "Full_name: Trisha Faye Cabug Cueno\n",
            "Student_Number: 202101759\n",
            "Age: 18\n",
            "Birthday: April 02, 2003\n",
            "Address: Narra Street, Kayquit 2, Indang, Cavite\n",
            "Course: Bachelor of Science in Computer Engineering\n",
            "Last_Sem_GWA: 93\n"
          ]
        }
      ]
    },
    {
      "cell_type": "markdown",
      "metadata": {
        "id": "ceP6tt3PnAHy"
      },
      "source": [
        "###PROBLEM STATEMENT 2"
      ]
    },
    {
      "cell_type": "code",
      "metadata": {
        "colab": {
          "base_uri": "https://localhost:8080/"
        },
        "id": "zOfu83qfnGHu",
        "outputId": "2b6a927d-9791-482d-e15a-428ef3a9e4e3"
      },
      "source": [
        "n = 4\n",
        "answ = \"Y\"\n",
        "\n",
        "(2<n)and(n<6)"
      ],
      "execution_count": 18,
      "outputs": [
        {
          "output_type": "execute_result",
          "data": {
            "text/plain": [
              "True"
            ]
          },
          "metadata": {},
          "execution_count": 18
        }
      ]
    },
    {
      "cell_type": "code",
      "metadata": {
        "colab": {
          "base_uri": "https://localhost:8080/"
        },
        "id": "NL5FAn1gsJmf",
        "outputId": "8143a88b-014b-4eb5-fd00-0dc11ca7ec12"
      },
      "source": [
        "n = 4\n",
        "answ = \"Y\"\n",
        "\n",
        "(2<n)or(n!=6)"
      ],
      "execution_count": 19,
      "outputs": [
        {
          "output_type": "execute_result",
          "data": {
            "text/plain": [
              "True"
            ]
          },
          "metadata": {},
          "execution_count": 19
        }
      ]
    },
    {
      "cell_type": "code",
      "metadata": {
        "colab": {
          "base_uri": "https://localhost:8080/"
        },
        "id": "u4-wYEqlsQ8r",
        "outputId": "1714c539-1bf4-4249-e7a4-cdfdc9db3340"
      },
      "source": [
        "n = 4\n",
        "answ = \"Y\"\n",
        "\n",
        "not(2<n)or(n!=6)"
      ],
      "execution_count": 20,
      "outputs": [
        {
          "output_type": "execute_result",
          "data": {
            "text/plain": [
              "True"
            ]
          },
          "metadata": {},
          "execution_count": 20
        }
      ]
    },
    {
      "cell_type": "code",
      "metadata": {
        "colab": {
          "base_uri": "https://localhost:8080/"
        },
        "id": "0tPEBEjNsXLL",
        "outputId": "50f175ce-e4a5-4ba6-dfbb-c228081dfc2d"
      },
      "source": [
        "n = 4\n",
        "answ = \"Y\"\n",
        "\n",
        "not(n<6)"
      ],
      "execution_count": 21,
      "outputs": [
        {
          "output_type": "execute_result",
          "data": {
            "text/plain": [
              "False"
            ]
          },
          "metadata": {},
          "execution_count": 21
        }
      ]
    },
    {
      "cell_type": "code",
      "metadata": {
        "colab": {
          "base_uri": "https://localhost:8080/"
        },
        "id": "B-t_JiMjsf-t",
        "outputId": "77814821-54ff-493a-f425-37938e31da36"
      },
      "source": [
        "n = 4\n",
        "answ =  \"Y\"\n",
        "\n",
        "(answ!=\"Y\")or(answ!=\"y\")"
      ],
      "execution_count": 22,
      "outputs": [
        {
          "output_type": "execute_result",
          "data": {
            "text/plain": [
              "True"
            ]
          },
          "metadata": {},
          "execution_count": 22
        }
      ]
    },
    {
      "cell_type": "code",
      "metadata": {
        "colab": {
          "base_uri": "https://localhost:8080/"
        },
        "id": "hu71_HmatEZ-",
        "outputId": "80e11866-375b-4888-8645-dc10809201d9"
      },
      "source": [
        "n = 4\n",
        "answ = \"Y\"\n",
        "\n",
        "(answ!=\"Y\")and(answ!=\"y\")"
      ],
      "execution_count": 23,
      "outputs": [
        {
          "output_type": "execute_result",
          "data": {
            "text/plain": [
              "False"
            ]
          },
          "metadata": {},
          "execution_count": 23
        }
      ]
    },
    {
      "cell_type": "code",
      "metadata": {
        "colab": {
          "base_uri": "https://localhost:8080/"
        },
        "id": "uFRfVNhDtMYd",
        "outputId": "5c19fdd1-15ba-4047-af53-5b3f47cdc1cd"
      },
      "source": [
        "n = 4\n",
        "answ = \"Y\"\n",
        "\n",
        "not(answ!=\"y\")"
      ],
      "execution_count": 24,
      "outputs": [
        {
          "output_type": "execute_result",
          "data": {
            "text/plain": [
              "False"
            ]
          },
          "metadata": {},
          "execution_count": 24
        }
      ]
    },
    {
      "cell_type": "code",
      "metadata": {
        "colab": {
          "base_uri": "https://localhost:8080/"
        },
        "id": "EMPwDlNZtXTN",
        "outputId": "9eff4a14-bbeb-4db6-d869-5c17bb59e775"
      },
      "source": [
        "n = 4\n",
        "answ = \"Y\"\n",
        "\n",
        "((2<n)and(n!=5+1))or(answ!=\"No\")"
      ],
      "execution_count": 25,
      "outputs": [
        {
          "output_type": "execute_result",
          "data": {
            "text/plain": [
              "True"
            ]
          },
          "metadata": {},
          "execution_count": 25
        }
      ]
    },
    {
      "cell_type": "code",
      "metadata": {
        "colab": {
          "base_uri": "https://localhost:8080/"
        },
        "id": "Qbot_70PtkHN",
        "outputId": "16ec6c4a-763e-4012-9efe-813a4baa5351"
      },
      "source": [
        "n = 4\n",
        "answ = \"Y\"\n",
        "\n",
        "((n==2)and(n==7))or(answ==\"Y\")"
      ],
      "execution_count": 27,
      "outputs": [
        {
          "output_type": "execute_result",
          "data": {
            "text/plain": [
              "True"
            ]
          },
          "metadata": {},
          "execution_count": 27
        }
      ]
    },
    {
      "cell_type": "code",
      "metadata": {
        "colab": {
          "base_uri": "https://localhost:8080/"
        },
        "id": "KXPK_UZmtyWM",
        "outputId": "a65a890e-ac4f-4638-80d7-4064235919d8"
      },
      "source": [
        "n = 4\n",
        "answ = \"Y\"\n",
        "\n",
        "(n==2)and((n==7)or(answ==\"Y\"))"
      ],
      "execution_count": 31,
      "outputs": [
        {
          "output_type": "execute_result",
          "data": {
            "text/plain": [
              "False"
            ]
          },
          "metadata": {},
          "execution_count": 31
        }
      ]
    },
    {
      "cell_type": "markdown",
      "metadata": {
        "id": "UoaMA5VAoN_x"
      },
      "source": [
        "###PROBLEM STATEMENT 3"
      ]
    },
    {
      "cell_type": "code",
      "metadata": {
        "colab": {
          "base_uri": "https://localhost:8080/"
        },
        "id": "zm7cXOWLoRaG",
        "outputId": "5f386be2-4b0f-4d79-c681-8f561ee0a0e4"
      },
      "source": [
        "w = 7\n",
        "x = 2\n",
        "y = -3\n",
        "z = -10\n",
        "\n",
        "print(x/y)\n",
        "print(w/y/x)\n",
        "print(z/y%x)\n",
        "print(x%-y*w)\n",
        "print(x%y)\n",
        "print(z%w-y/x*5+5)\n",
        "print(9-x%(2+y))\n",
        "print(z//w)\n",
        "print((2+y)**2)\n",
        "print(w/x*2)"
      ],
      "execution_count": 32,
      "outputs": [
        {
          "output_type": "stream",
          "name": "stdout",
          "text": [
            "-0.6666666666666666\n",
            "-1.1666666666666667\n",
            "1.3333333333333335\n",
            "14\n",
            "-1\n",
            "16.5\n",
            "9\n",
            "-2\n",
            "1\n",
            "7.0\n"
          ]
        }
      ]
    }
  ]
}