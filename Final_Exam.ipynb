{
  "nbformat": 4,
  "nbformat_minor": 0,
  "metadata": {
    "colab": {
      "name": "Final Exam.ipynb",
      "provenance": [],
      "authorship_tag": "ABX9TyMRP6Hv+dbXW4NtsztTV7ov",
      "include_colab_link": true
    },
    "kernelspec": {
      "name": "python3",
      "display_name": "Python 3"
    },
    "language_info": {
      "name": "python"
    }
  },
  "cells": [
    {
      "cell_type": "markdown",
      "metadata": {
        "id": "view-in-github",
        "colab_type": "text"
      },
      "source": [
        "<a href=\"https://colab.research.google.com/github/TrishaCueno/CPEN-21A-CPE-1-1/blob/main/Final_Exam.ipynb\" target=\"_parent\"><img src=\"https://colab.research.google.com/assets/colab-badge.svg\" alt=\"Open In Colab\"/></a>"
      ]
    },
    {
      "cell_type": "markdown",
      "source": [
        "##PROBLEM STATEMENT 1"
      ],
      "metadata": {
        "id": "izWt2LCqfOTL"
      }
    },
    {
      "cell_type": "code",
      "execution_count": 2,
      "metadata": {
        "colab": {
          "base_uri": "https://localhost:8080/"
        },
        "id": "a-VoTy5odfjQ",
        "outputId": "72641837-8f83-4505-8cb0-199f73158399"
      },
      "outputs": [
        {
          "output_type": "stream",
          "name": "stdout",
          "text": [
            "PLEASE INPUT TEN NUMBERS \n",
            "Enter digit 1: 1\n",
            "Enter digit 2: 4\n",
            "Enter digit 3: 3\n",
            "Enter digit 4: 4\n",
            "Enter digit 5: 9\n",
            "Not a valid number, enter again\n",
            "Enter digit 5: 57\n",
            "Not a valid number, enter again\n",
            "Enter digit 5: 4\n",
            "Enter digit 6: 1\n",
            "Enter digit 7: 2\n",
            "Enter digit 8: 3\n",
            "Enter digit 9: 98\n",
            "Not a valid number, enter again\n",
            "Enter digit 9: 4\n",
            "Enter digit 10: 2\n",
            "The sum is 28\n"
          ]
        }
      ],
      "source": [
        "print(\"PLEASE INPUT TEN NUMBERS \")\n",
        "numlist = []\n",
        "\n",
        "for i in range(1, 11):\n",
        "    while (True):\n",
        "        nums =  int(input(\"Enter digit \" + str(i) + \": \"))\n",
        "        if nums >= 5:\n",
        "            print(\"Not a valid number, enter again\")\n",
        "        elif nums < 5:\n",
        "            numlist.append(nums)\n",
        "            break\n",
        "\n",
        "print(\"The sum is\", end=\" \")\n",
        "print(sum(numlist))"
      ]
    },
    {
      "cell_type": "markdown",
      "source": [
        "or"
      ],
      "metadata": {
        "id": "J9pyvBqhgJdX"
      }
    },
    {
      "cell_type": "code",
      "source": [
        "total = 0\n",
        "for x in range(1, 11):\n",
        "    nums = int(input(\"Enter digit \" + str(x) + \": \"))\n",
        "   \n",
        "    while nums >= 5 or nums < 1:\n",
        "        print(\"Not a valid number, enter again\")\n",
        "        nums = int(input(\"Enter digit \" + str(x) + \": \"))\n",
        "   \n",
        "    total = total + nums\n",
        "\n",
        "print(total)"
      ],
      "metadata": {
        "colab": {
          "base_uri": "https://localhost:8080/"
        },
        "id": "4yIfZfVcf6Fa",
        "outputId": "2998dbf5-c958-4a68-ccdb-f5d4e8bf73c3"
      },
      "execution_count": 3,
      "outputs": [
        {
          "output_type": "stream",
          "name": "stdout",
          "text": [
            "Enter digit 1: 1\n",
            "Enter digit 2: 5\n",
            "Not a valid number, enter again\n",
            "Enter digit 2: 3\n",
            "Enter digit 3: 2\n",
            "Enter digit 4: 4\n",
            "Enter digit 5: 65\n",
            "Not a valid number, enter again\n",
            "Enter digit 5: 2\n",
            "Enter digit 6: 1\n",
            "Enter digit 7: 3\n",
            "Enter digit 8: 4\n",
            "Enter digit 9: 8\n",
            "Not a valid number, enter again\n",
            "Enter digit 9: 6\n",
            "Not a valid number, enter again\n",
            "Enter digit 9: 2\n",
            "Enter digit 10: 1\n",
            "23\n"
          ]
        }
      ]
    },
    {
      "cell_type": "markdown",
      "source": [
        "##PROBLEM STATEMENT 2"
      ],
      "metadata": {
        "id": "nLptM8HIgMeX"
      }
    },
    {
      "cell_type": "code",
      "source": [
        "print(\"PLEASE INPUT FIVE NUMBERS \")\n",
        "numlist = []\n",
        "\n",
        "i = 1\n",
        "while i < 6:\n",
        "  nums =  int(input(\"Enter digit \" + str(i) + \": \"))\n",
        "  i += 1\n",
        "  numlist.append(nums)\n",
        "\n",
        "print(\"The sum of the first and last number is:\", end=\" \")\n",
        "print(numlist[0] + numlist[4])"
      ],
      "metadata": {
        "colab": {
          "base_uri": "https://localhost:8080/"
        },
        "id": "aleOgMOpgQ6J",
        "outputId": "456e30d3-2e61-449c-bf75-845105d031c8"
      },
      "execution_count": 4,
      "outputs": [
        {
          "output_type": "stream",
          "name": "stdout",
          "text": [
            "PLEASE INPUT FIVE NUMBERS \n",
            "Enter digit 1: 4\n",
            "Enter digit 2: 5\n",
            "Enter digit 3: 7\n",
            "Enter digit 4: 3\n",
            "Enter digit 5: 4\n",
            "The sum of the first and last number is: 8\n"
          ]
        }
      ]
    },
    {
      "cell_type": "markdown",
      "source": [
        "##PROBLEM STATEMENT 3"
      ],
      "metadata": {
        "id": "u06CTw5Fgbz3"
      }
    },
    {
      "cell_type": "code",
      "source": [
        "print(\"Please input the numerical grade of the student: \")\n",
        "grade = int(input())\n",
        "\n",
        "if grade >=90:\n",
        "    print(\"A\")\n",
        "else:\n",
        "    if grade >= 80:\n",
        "      print(\"B\")\n",
        "    else:\n",
        "      if grade >= 70:\n",
        "        print(\"C\")\n",
        "      else:\n",
        "        if grade >= 60:\n",
        "          print(\"D\")\n",
        "        else:\n",
        "          if grade < 60:\n",
        "            print(\"F\") "
      ],
      "metadata": {
        "colab": {
          "base_uri": "https://localhost:8080/"
        },
        "id": "m43--JK6gezE",
        "outputId": "9d5ade8a-b6c5-44ff-9dd5-a4c80dfc3e97"
      },
      "execution_count": 5,
      "outputs": [
        {
          "output_type": "stream",
          "name": "stdout",
          "text": [
            "Please input the numerical grade of the student: \n",
            "97\n",
            "A\n"
          ]
        }
      ]
    }
  ]
}