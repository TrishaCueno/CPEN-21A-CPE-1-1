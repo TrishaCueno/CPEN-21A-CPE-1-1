{
  "nbformat": 4,
  "nbformat_minor": 0,
  "metadata": {
    "colab": {
      "name": "Demo1",
      "provenance": [],
      "collapsed_sections": [],
      "authorship_tag": "ABX9TyN6ShAYxk1xZZJT0bt0dzA3",
      "include_colab_link": true
    },
    "kernelspec": {
      "name": "python3",
      "display_name": "Python 3"
    },
    "language_info": {
      "name": "python"
    }
  },
  "cells": [
    {
      "cell_type": "markdown",
      "metadata": {
        "id": "view-in-github",
        "colab_type": "text"
      },
      "source": [
        "<a href=\"https://colab.research.google.com/github/TrishaCueno/CPEN-21A-CPE-1-1/blob/main/Demo1.ipynb\" target=\"_parent\"><img src=\"https://colab.research.google.com/assets/colab-badge.svg\" alt=\"Open In Colab\"/></a>"
      ]
    },
    {
      "cell_type": "markdown",
      "metadata": {
        "id": "1uH374odlsoE"
      },
      "source": [
        "**INTRODUCTION TO PROGRAMMING**"
      ]
    },
    {
      "cell_type": "markdown",
      "metadata": {
        "id": "dXE3arBSp7ed"
      },
      "source": [
        "**Naming of Variable**"
      ]
    },
    {
      "cell_type": "code",
      "metadata": {
        "colab": {
          "base_uri": "https://localhost:8080/"
        },
        "id": "PU3NLvi_iQ-J",
        "outputId": "f94a5259-e0ce-4493-b5c1-062154cb1083"
      },
      "source": [
        "x = \"Trisha\"\n",
        "print(x)"
      ],
      "execution_count": null,
      "outputs": [
        {
          "output_type": "stream",
          "name": "stdout",
          "text": [
            "Trisha\n"
          ]
        }
      ]
    },
    {
      "cell_type": "code",
      "metadata": {
        "colab": {
          "base_uri": "https://localhost:8080/"
        },
        "id": "S7XWzUpwrlNL",
        "outputId": "f4507a01-2e72-46b5-ae05-819b34b35c13"
      },
      "source": [
        "x = 'Trisha'\n",
        "print(type(x))"
      ],
      "execution_count": null,
      "outputs": [
        {
          "output_type": "stream",
          "name": "stdout",
          "text": [
            "<class 'str'>\n"
          ]
        }
      ]
    },
    {
      "cell_type": "code",
      "metadata": {
        "colab": {
          "base_uri": "https://localhost:8080/"
        },
        "id": "J9EL4slsrtIb",
        "outputId": "8cd792ad-eaf2-49b4-add7-b94515bc1daa"
      },
      "source": [
        "a = \"Trisha\"\n",
        "A = \"Faye\"\n",
        "print(a)\n",
        "print(A)"
      ],
      "execution_count": null,
      "outputs": [
        {
          "output_type": "stream",
          "name": "stdout",
          "text": [
            "Trisha\n",
            "Faye\n"
          ]
        }
      ]
    },
    {
      "cell_type": "code",
      "metadata": {
        "colab": {
          "base_uri": "https://localhost:8080/"
        },
        "id": "4gKsS_h1i-Wt",
        "outputId": "99408f87-b170-4384-b0d4-ca5630525510"
      },
      "source": [
        "a, b, c = 0, 1, 2\n",
        "print(type(a))            #This is a program using a type function\n",
        "print(b)\n",
        "print(c)"
      ],
      "execution_count": null,
      "outputs": [
        {
          "output_type": "stream",
          "name": "stdout",
          "text": [
            "<class 'int'>\n",
            "1\n",
            "2\n"
          ]
        }
      ]
    },
    {
      "cell_type": "code",
      "metadata": {
        "colab": {
          "base_uri": "https://localhost:8080/"
        },
        "id": "OTfEAZqLs-vj",
        "outputId": "e56cf0a1-2453-4452-b824-c4157a4301f9"
      },
      "source": [
        "a = 4.50\n",
        "print(type(a))            #This is a program using a type function"
      ],
      "execution_count": null,
      "outputs": [
        {
          "output_type": "stream",
          "name": "stdout",
          "text": [
            "<class 'float'>\n"
          ]
        }
      ]
    },
    {
      "cell_type": "code",
      "metadata": {
        "colab": {
          "base_uri": "https://localhost:8080/"
        },
        "id": "JF36xvbUkRQf",
        "outputId": "75b7c17c-c6b4-4765-8c16-78dc6ee72c38"
      },
      "source": [
        "a = float(4)\n",
        "print((a))"
      ],
      "execution_count": null,
      "outputs": [
        {
          "output_type": "stream",
          "name": "stdout",
          "text": [
            "4.0\n"
          ]
        }
      ]
    },
    {
      "cell_type": "markdown",
      "metadata": {
        "id": "1sWme39bqHWA"
      },
      "source": [
        "**One Value to Multiple Variable**"
      ]
    },
    {
      "cell_type": "code",
      "metadata": {
        "colab": {
          "base_uri": "https://localhost:8080/"
        },
        "id": "8Sy2rHYple51",
        "outputId": "ac065395-ebc4-455d-b436-622566116dfe"
      },
      "source": [
        "x = y = z = \"four\"\n",
        "print(x)"
      ],
      "execution_count": null,
      "outputs": [
        {
          "output_type": "stream",
          "name": "stdout",
          "text": [
            "four\n"
          ]
        }
      ]
    },
    {
      "cell_type": "code",
      "metadata": {
        "colab": {
          "base_uri": "https://localhost:8080/"
        },
        "id": "TJOq4POfqTvA",
        "outputId": "340d05e3-aa7e-4c65-a596-669e3ec4c26b"
      },
      "source": [
        "x = \"enjoying\"\n",
        "print('Programing is'+ \" \" + x)"
      ],
      "execution_count": null,
      "outputs": [
        {
          "output_type": "stream",
          "name": "stdout",
          "text": [
            "Programing is enjoying\n"
          ]
        }
      ]
    },
    {
      "cell_type": "code",
      "metadata": {
        "colab": {
          "base_uri": "https://localhost:8080/"
        },
        "id": "xnB_-EXmsMRN",
        "outputId": "f3336b3a-906f-457f-82cc-fd1b4a47df19"
      },
      "source": [
        "x = \"Python\"\n",
        "y = \" is enjoying\"\n",
        "print(x+y)"
      ],
      "execution_count": null,
      "outputs": [
        {
          "output_type": "stream",
          "name": "stdout",
          "text": [
            "Python is enjoying\n"
          ]
        }
      ]
    },
    {
      "cell_type": "code",
      "metadata": {
        "colab": {
          "base_uri": "https://localhost:8080/"
        },
        "id": "Bt0FkdeSqk1s",
        "outputId": "48ec7b2d-45cc-422d-f871-85363dc0bf21"
      },
      "source": [
        "x = 3\n",
        "y = 5\n",
        "sum = x + y\n",
        "print(sum)"
      ],
      "execution_count": null,
      "outputs": [
        {
          "output_type": "stream",
          "name": "stdout",
          "text": [
            "8\n"
          ]
        }
      ]
    },
    {
      "cell_type": "code",
      "metadata": {
        "colab": {
          "base_uri": "https://localhost:8080/"
        },
        "id": "y3i8yjKrl1dM",
        "outputId": "d76deabf-6f32-4239-de3c-b414a5dc6772"
      },
      "source": [
        "x = 4\n",
        "y = 5\n",
        "print(x+y)\n",
        "print(x-y)"
      ],
      "execution_count": null,
      "outputs": [
        {
          "output_type": "stream",
          "name": "stdout",
          "text": [
            "9\n",
            "-1\n"
          ]
        }
      ]
    },
    {
      "cell_type": "code",
      "metadata": {
        "colab": {
          "base_uri": "https://localhost:8080/"
        },
        "id": "icJMkEBZnLZm",
        "outputId": "c06a94e9-0b31-4c64-f77c-152e573fbe77"
      },
      "source": [
        "x<y and x==x"
      ],
      "execution_count": null,
      "outputs": [
        {
          "output_type": "execute_result",
          "data": {
            "text/plain": [
              "True"
            ]
          },
          "metadata": {},
          "execution_count": 40
        }
      ]
    },
    {
      "cell_type": "code",
      "metadata": {
        "colab": {
          "base_uri": "https://localhost:8080/"
        },
        "id": "D1Ix4t39nYFU",
        "outputId": "be47837e-dc92-43b9-8027-6d96820722e9"
      },
      "source": [
        "not(x<y or x==x)      #This is an example of comparison operators"
      ],
      "execution_count": null,
      "outputs": [
        {
          "output_type": "execute_result",
          "data": {
            "text/plain": [
              "False"
            ]
          },
          "metadata": {},
          "execution_count": 41
        }
      ]
    },
    {
      "cell_type": "code",
      "metadata": {
        "id": "zIhl8X1Q21PM"
      },
      "source": [
        ""
      ],
      "execution_count": null,
      "outputs": []
    }
  ]
}